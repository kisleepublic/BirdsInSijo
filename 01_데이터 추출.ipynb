{
 "cells": [
  {
   "cell_type": "code",
   "execution_count": null,
   "id": "a84e3cb9",
   "metadata": {},
   "outputs": [],
   "source": [
    "#!pip install pyhwp"
   ]
  },
  {
   "cell_type": "code",
   "execution_count": 1,
   "id": "49692b93",
   "metadata": {},
   "outputs": [],
   "source": [
    "import os\n",
    "from glob import glob\n",
    "import pandas as pd\n",
    "#import re"
   ]
  },
  {
   "cell_type": "code",
   "execution_count": 2,
   "id": "122a30a2",
   "metadata": {},
   "outputs": [],
   "source": [
    "DATA_PATH = os.getcwd()\n",
    "files = glob(os.path.join(DATA_PATH, '*.hwp'))"
   ]
  },
  {
   "cell_type": "code",
   "execution_count": 3,
   "id": "82fa3084",
   "metadata": {},
   "outputs": [
    {
     "data": {
      "text/plain": [
       "['C:\\\\Users\\\\Kislee\\\\Workspace\\\\2023\\\\고전시가_새\\\\한국시조대사전.hwp']"
      ]
     },
     "execution_count": 3,
     "metadata": {},
     "output_type": "execute_result"
    }
   ],
   "source": [
    "files"
   ]
  },
  {
   "cell_type": "code",
   "execution_count": 4,
   "id": "7f7d1675",
   "metadata": {},
   "outputs": [],
   "source": [
    "f_name = files[0]\n",
    "!hwp5txt --output hwp.txt \"$f_name\""
   ]
  },
  {
   "cell_type": "code",
   "execution_count": 5,
   "id": "0aada977",
   "metadata": {},
   "outputs": [],
   "source": [
    "df = pd.read_csv('hwp.txt', delimiter='\\n', header=None)"
   ]
  },
  {
   "cell_type": "code",
   "execution_count": 6,
   "id": "4e010b60",
   "metadata": {},
   "outputs": [
    {
     "data": {
      "text/html": [
       "<div>\n",
       "<style scoped>\n",
       "    .dataframe tbody tr th:only-of-type {\n",
       "        vertical-align: middle;\n",
       "    }\n",
       "\n",
       "    .dataframe tbody tr th {\n",
       "        vertical-align: top;\n",
       "    }\n",
       "\n",
       "    .dataframe thead th {\n",
       "        text-align: right;\n",
       "    }\n",
       "</style>\n",
       "<table border=\"1\" class=\"dataframe\">\n",
       "  <thead>\n",
       "    <tr style=\"text-align: right;\">\n",
       "      <th></th>\n",
       "      <th>0</th>\n",
       "    </tr>\n",
       "  </thead>\n",
       "  <tbody>\n",
       "    <tr>\n",
       "      <th>0</th>\n",
       "      <td>1</td>\n",
       "    </tr>\n",
       "    <tr>\n",
       "      <th>1</th>\n",
       "      <td>가나이다 가이다 小臣 도라 가이다</td>\n",
       "    </tr>\n",
       "    <tr>\n",
       "      <th>2</th>\n",
       "      <td>忠臣도 려니와 養親인 마오릿가</td>\n",
       "    </tr>\n",
       "    <tr>\n",
       "      <th>3</th>\n",
       "      <td>구틔여 오라 시면 다시 도라 오오리다</td>\n",
       "    </tr>\n",
       "    <tr>\n",
       "      <th>4</th>\n",
       "      <td>2</td>\n",
       "    </tr>\n",
       "  </tbody>\n",
       "</table>\n",
       "</div>"
      ],
      "text/plain": [
       "                       0\n",
       "0                      1\n",
       "1   가나이다 가이다 小臣 도라 가이다\n",
       "2     忠臣도 려니와 養親인 마오릿가\n",
       "3  구틔여 오라 시면 다시 도라 오오리다\n",
       "4                      2"
      ]
     },
     "execution_count": 6,
     "metadata": {},
     "output_type": "execute_result"
    }
   ],
   "source": [
    "df.head()"
   ]
  },
  {
   "cell_type": "code",
   "execution_count": 7,
   "id": "5b8c70d6",
   "metadata": {},
   "outputs": [],
   "source": [
    "poem_df = pd.DataFrame()"
   ]
  },
  {
   "cell_type": "code",
   "execution_count": 8,
   "id": "851c8c2b",
   "metadata": {},
   "outputs": [],
   "source": [
    "번호 = df[0::4]\n",
    "초장 = df[1::4]\n",
    "중장 = df[2::4]\n",
    "종장 = df[3::4]"
   ]
  },
  {
   "cell_type": "code",
   "execution_count": 9,
   "id": "01a4eecb",
   "metadata": {},
   "outputs": [],
   "source": [
    "번호 = 번호.reset_index(drop=True)\n",
    "초장 = 초장.reset_index(drop=True)\n",
    "중장 = 중장.reset_index(drop=True)\n",
    "종장 = 종장.reset_index(drop=True)"
   ]
  },
  {
   "cell_type": "code",
   "execution_count": 10,
   "id": "7c9bb7b2",
   "metadata": {},
   "outputs": [],
   "source": [
    "poem_df = pd.concat([번호, 초장, 중장, 종장], axis=1, ignore_index=True)"
   ]
  },
  {
   "cell_type": "code",
   "execution_count": 11,
   "id": "87b336ca",
   "metadata": {},
   "outputs": [],
   "source": [
    "poem_df.columns=['번호','초장','중장','종장']"
   ]
  },
  {
   "cell_type": "code",
   "execution_count": 12,
   "id": "efbf919c",
   "metadata": {},
   "outputs": [
    {
     "name": "stderr",
     "output_type": "stream",
     "text": [
      "<ipython-input-12-842813b9071e>:1: FutureWarning: The default value of regex will change from True to False in a future version. In addition, single character regular expressions will *not* be treated as literal strings when regex=True.\n",
      "  poem_df['번호'] = poem_df['번호'].str.replace('.','')\n"
     ]
    }
   ],
   "source": [
    "poem_df['번호'] = poem_df['번호'].str.replace('.','')\n",
    "poem_df['번호'] = poem_df['번호'].str.replace(',','')\n",
    "poem_df['번호'] = poem_df['번호'].str.replace(' ','')"
   ]
  },
  {
   "cell_type": "code",
   "execution_count": 13,
   "id": "d8f7fc9d",
   "metadata": {},
   "outputs": [],
   "source": [
    "poem_df['번호'] = poem_df['번호'].astype(int)"
   ]
  },
  {
   "cell_type": "code",
   "execution_count": 14,
   "id": "6412bedb",
   "metadata": {
    "scrolled": true
   },
   "outputs": [
    {
     "data": {
      "text/html": [
       "<div>\n",
       "<style scoped>\n",
       "    .dataframe tbody tr th:only-of-type {\n",
       "        vertical-align: middle;\n",
       "    }\n",
       "\n",
       "    .dataframe tbody tr th {\n",
       "        vertical-align: top;\n",
       "    }\n",
       "\n",
       "    .dataframe thead th {\n",
       "        text-align: right;\n",
       "    }\n",
       "</style>\n",
       "<table border=\"1\" class=\"dataframe\">\n",
       "  <thead>\n",
       "    <tr style=\"text-align: right;\">\n",
       "      <th></th>\n",
       "      <th>번호</th>\n",
       "      <th>초장</th>\n",
       "      <th>중장</th>\n",
       "      <th>종장</th>\n",
       "    </tr>\n",
       "  </thead>\n",
       "  <tbody>\n",
       "    <tr>\n",
       "      <th>0</th>\n",
       "      <td>1</td>\n",
       "      <td>가나이다 가이다 小臣 도라 가이다</td>\n",
       "      <td>忠臣도 려니와 養親인 마오릿가</td>\n",
       "      <td>구틔여 오라 시면 다시 도라 오오리다</td>\n",
       "    </tr>\n",
       "    <tr>\n",
       "      <th>1</th>\n",
       "      <td>2</td>\n",
       "      <td> 비 빗긴 람 낫대 멘 뎌 하나바</td>\n",
       "      <td>네 生涯 언마치라 슈고롬도 슈롤샤</td>\n",
       "      <td>生涯를 爲호미 아니라 漁興 계워 하노라</td>\n",
       "    </tr>\n",
       "    <tr>\n",
       "      <th>2</th>\n",
       "      <td>3</td>\n",
       "      <td>가노라 가노라 님아 언양 단쳔의 風月江山으로 가노라 님아</td>\n",
       "      <td>가다가 潯陽江의 琵琶聲을 어이 하리</td>\n",
       "      <td>밤즁만 지국총 닷 감 쇼에 잠 못 일워</td>\n",
       "    </tr>\n",
       "    <tr>\n",
       "      <th>3</th>\n",
       "      <td>4</td>\n",
       "      <td>가노라 다시 보자 그립거든 어이 살고</td>\n",
       "      <td>비록 千里라타 의야 아니 보랴</td>\n",
       "      <td> 야 겻희 업면 그를 어이 리오</td>\n",
       "    </tr>\n",
       "    <tr>\n",
       "      <th>4</th>\n",
       "      <td>5</td>\n",
       "      <td>가노라 白石亭아 보시 보쟈 白鷗들아</td>\n",
       "      <td>너릐 다시 보니 나고쟈 랴만</td>\n",
       "      <td>젹의도 臨鏡亭 이시니 기일가 로라</td>\n",
       "    </tr>\n",
       "  </tbody>\n",
       "</table>\n",
       "</div>"
      ],
      "text/plain": [
       "   번호                               초장                   중장  \\\n",
       "0   1             가나이다 가이다 小臣 도라 가이다   忠臣도 려니와 養親인 마오릿가   \n",
       "1   2             비 빗긴 람 낫대 멘 뎌 하나바   네 生涯 언마치라 슈고롬도 슈롤샤   \n",
       "2   3  가노라 가노라 님아 언양 단쳔의 風月江山으로 가노라 님아  가다가 潯陽江의 琵琶聲을 어이 하리   \n",
       "3   4             가노라 다시 보자 그립거든 어이 살고    비록 千里라타 의야 아니 보랴   \n",
       "4   5              가노라 白石亭아 보시 보쟈 白鷗들아  너릐 다시 보니 나고쟈 랴만   \n",
       "\n",
       "                        종장  \n",
       "0    구틔여 오라 시면 다시 도라 오오리다  \n",
       "1    生涯를 爲호미 아니라 漁興 계워 하노라  \n",
       "2  밤즁만 지국총 닷 감 쇼에 잠 못 일워  \n",
       "3     야 겻희 업면 그를 어이 리오  \n",
       "4     젹의도 臨鏡亭 이시니 기일가 로라  "
      ]
     },
     "execution_count": 14,
     "metadata": {},
     "output_type": "execute_result"
    }
   ],
   "source": [
    "poem_df.head()"
   ]
  },
  {
   "cell_type": "code",
   "execution_count": 15,
   "id": "4c348df1",
   "metadata": {},
   "outputs": [
    {
     "data": {
      "text/plain": [
       "4728"
      ]
     },
     "execution_count": 15,
     "metadata": {},
     "output_type": "execute_result"
    }
   ],
   "source": [
    "len(poem_df)"
   ]
  },
  {
   "cell_type": "code",
   "execution_count": 16,
   "id": "2dd019a7",
   "metadata": {},
   "outputs": [],
   "source": [
    "def find_skipped_numbers(column):\n",
    "    differences = column.diff()\n",
    "    return differences[differences > 1]"
   ]
  },
  {
   "cell_type": "code",
   "execution_count": 17,
   "id": "b3601c10",
   "metadata": {},
   "outputs": [
    {
     "name": "stdout",
     "output_type": "stream",
     "text": [
      "1391    2.0\n",
      "1581    2.0\n",
      "1758    2.0\n",
      "2641    2.0\n",
      "3085    2.0\n",
      "3377    2.0\n",
      "4094    2.0\n",
      "4267    2.0\n",
      "Name: 번호, dtype: float64\n"
     ]
    }
   ],
   "source": [
    "missing_values_A = find_skipped_numbers(poem_df['번호'])\n",
    "print(missing_values_A)"
   ]
  },
  {
   "cell_type": "code",
   "execution_count": 20,
   "id": "83cadbf4",
   "metadata": {},
   "outputs": [
    {
     "name": "stdout",
     "output_type": "stream",
     "text": [
      "C:\\Users\\Kislee\\Workspace\\2023\\고전시가_새\\시조 새 사전.xlsx\n"
     ]
    }
   ],
   "source": [
    "#새 사전 가져오기\n",
    "bird_files = os.path.join(os.getcwd(), '시조 새 사전.xlsx')\n",
    "print(bird_files)"
   ]
  },
  {
   "cell_type": "code",
   "execution_count": 21,
   "id": "ba5eee76",
   "metadata": {},
   "outputs": [],
   "source": [
    "b_df = pd.read_excel(bird_files)"
   ]
  },
  {
   "cell_type": "code",
   "execution_count": 22,
   "id": "d8a1a14b",
   "metadata": {},
   "outputs": [
    {
     "data": {
      "text/html": [
       "<div>\n",
       "<style scoped>\n",
       "    .dataframe tbody tr th:only-of-type {\n",
       "        vertical-align: middle;\n",
       "    }\n",
       "\n",
       "    .dataframe tbody tr th {\n",
       "        vertical-align: top;\n",
       "    }\n",
       "\n",
       "    .dataframe thead th {\n",
       "        text-align: right;\n",
       "    }\n",
       "</style>\n",
       "<table border=\"1\" class=\"dataframe\">\n",
       "  <thead>\n",
       "    <tr style=\"text-align: right;\">\n",
       "      <th></th>\n",
       "      <th>이름</th>\n",
       "      <th>변형</th>\n",
       "    </tr>\n",
       "  </thead>\n",
       "  <tbody>\n",
       "    <tr>\n",
       "      <th>0</th>\n",
       "      <td>가마우지</td>\n",
       "      <td>가마우지,가마오지</td>\n",
       "    </tr>\n",
       "    <tr>\n",
       "      <th>1</th>\n",
       "      <td>갈매기</td>\n",
       "      <td>갈매기,백구,갈며기,갈멱이,白鷗,갈메기,白구</td>\n",
       "    </tr>\n",
       "    <tr>\n",
       "      <th>2</th>\n",
       "      <td>감장새</td>\n",
       "      <td>감장새,감쟝새</td>\n",
       "    </tr>\n",
       "    <tr>\n",
       "      <th>3</th>\n",
       "      <td>거위</td>\n",
       "      <td>鵝</td>\n",
       "    </tr>\n",
       "    <tr>\n",
       "      <th>4</th>\n",
       "      <td>공작</td>\n",
       "      <td>孔雀,공작</td>\n",
       "    </tr>\n",
       "  </tbody>\n",
       "</table>\n",
       "</div>"
      ],
      "text/plain": [
       "     이름                        변형\n",
       "0  가마우지                 가마우지,가마오지\n",
       "1   갈매기  갈매기,백구,갈며기,갈멱이,白鷗,갈메기,白구\n",
       "2   감장새                   감장새,감쟝새\n",
       "3    거위                         鵝\n",
       "4    공작                     孔雀,공작"
      ]
     },
     "execution_count": 22,
     "metadata": {},
     "output_type": "execute_result"
    }
   ],
   "source": [
    "b_df.head()"
   ]
  },
  {
   "cell_type": "code",
   "execution_count": 23,
   "id": "f67fef9a",
   "metadata": {},
   "outputs": [],
   "source": [
    "bird_list = []\n",
    "for birds in b_df['변형']:\n",
    "    names = birds.split(',')\n",
    "    for name in names:\n",
    "        bird_list.append(name)"
   ]
  },
  {
   "cell_type": "code",
   "execution_count": 25,
   "id": "0610da37",
   "metadata": {},
   "outputs": [
    {
     "data": {
      "text/plain": [
       "192"
      ]
     },
     "execution_count": 25,
     "metadata": {},
     "output_type": "execute_result"
    }
   ],
   "source": [
    "len(bird_list)"
   ]
  },
  {
   "cell_type": "code",
   "execution_count": 26,
   "id": "b42afd46",
   "metadata": {},
   "outputs": [],
   "source": [
    "def remove_elements_contained_in_others(input_list):\n",
    "    result = []\n",
    "    for element in input_list:\n",
    "        if not any(element in other for other in input_list if element != other):\n",
    "            result.append(element)\n",
    "    return result    "
   ]
  },
  {
   "cell_type": "code",
   "execution_count": 27,
   "id": "c66489ea",
   "metadata": {},
   "outputs": [],
   "source": [
    "def find_matching_value(text):\n",
    "    founds = []\n",
    "    for value in bird_list:\n",
    "        if value in text:\n",
    "            founds.append(value)\n",
    "    if len(founds)>0:\n",
    "        return ','.join(remove_elements_contained_in_others(founds))\n",
    "    else:\n",
    "        return None"
   ]
  },
  {
   "cell_type": "code",
   "execution_count": 28,
   "id": "1e4d86a4",
   "metadata": {},
   "outputs": [],
   "source": [
    "new_df = pd.DataFrame()"
   ]
  },
  {
   "cell_type": "code",
   "execution_count": 29,
   "id": "b0cc423b",
   "metadata": {},
   "outputs": [],
   "source": [
    "new_df['번호'] = poem_df['번호']\n",
    "new_df['초장'] = poem_df['초장'].apply(lambda x: find_matching_value(x))\n",
    "new_df['중장'] = poem_df['중장'].apply(lambda x: find_matching_value(x))\n",
    "new_df['종장'] = poem_df['종장'].apply(lambda x: find_matching_value(x))"
   ]
  },
  {
   "cell_type": "code",
   "execution_count": 30,
   "id": "6766e86b",
   "metadata": {},
   "outputs": [
    {
     "data": {
      "text/html": [
       "<div>\n",
       "<style scoped>\n",
       "    .dataframe tbody tr th:only-of-type {\n",
       "        vertical-align: middle;\n",
       "    }\n",
       "\n",
       "    .dataframe tbody tr th {\n",
       "        vertical-align: top;\n",
       "    }\n",
       "\n",
       "    .dataframe thead th {\n",
       "        text-align: right;\n",
       "    }\n",
       "</style>\n",
       "<table border=\"1\" class=\"dataframe\">\n",
       "  <thead>\n",
       "    <tr style=\"text-align: right;\">\n",
       "      <th></th>\n",
       "      <th>번호</th>\n",
       "      <th>초장</th>\n",
       "      <th>중장</th>\n",
       "      <th>종장</th>\n",
       "    </tr>\n",
       "  </thead>\n",
       "  <tbody>\n",
       "    <tr>\n",
       "      <th>0</th>\n",
       "      <td>1</td>\n",
       "      <td>None</td>\n",
       "      <td>None</td>\n",
       "      <td>오리</td>\n",
       "    </tr>\n",
       "    <tr>\n",
       "      <th>1</th>\n",
       "      <td>2</td>\n",
       "      <td>None</td>\n",
       "      <td>None</td>\n",
       "      <td>계</td>\n",
       "    </tr>\n",
       "    <tr>\n",
       "      <th>2</th>\n",
       "      <td>3</td>\n",
       "      <td>None</td>\n",
       "      <td>None</td>\n",
       "      <td>None</td>\n",
       "    </tr>\n",
       "    <tr>\n",
       "      <th>3</th>\n",
       "      <td>4</td>\n",
       "      <td>None</td>\n",
       "      <td>None</td>\n",
       "      <td>None</td>\n",
       "    </tr>\n",
       "    <tr>\n",
       "      <th>4</th>\n",
       "      <td>5</td>\n",
       "      <td>白鷗</td>\n",
       "      <td>None</td>\n",
       "      <td>None</td>\n",
       "    </tr>\n",
       "    <tr>\n",
       "      <th>...</th>\n",
       "      <td>...</td>\n",
       "      <td>...</td>\n",
       "      <td>...</td>\n",
       "      <td>...</td>\n",
       "    </tr>\n",
       "    <tr>\n",
       "      <th>4723</th>\n",
       "      <td>4732</td>\n",
       "      <td>None</td>\n",
       "      <td>None</td>\n",
       "      <td>계</td>\n",
       "    </tr>\n",
       "    <tr>\n",
       "      <th>4724</th>\n",
       "      <td>4733</td>\n",
       "      <td>None</td>\n",
       "      <td>鳳凰</td>\n",
       "      <td>None</td>\n",
       "    </tr>\n",
       "    <tr>\n",
       "      <th>4725</th>\n",
       "      <td>4734</td>\n",
       "      <td>None</td>\n",
       "      <td>None</td>\n",
       "      <td>None</td>\n",
       "    </tr>\n",
       "    <tr>\n",
       "      <th>4726</th>\n",
       "      <td>4735</td>\n",
       "      <td>None</td>\n",
       "      <td>None</td>\n",
       "      <td>None</td>\n",
       "    </tr>\n",
       "    <tr>\n",
       "      <th>4727</th>\n",
       "      <td>4736</td>\n",
       "      <td>None</td>\n",
       "      <td>None</td>\n",
       "      <td>None</td>\n",
       "    </tr>\n",
       "  </tbody>\n",
       "</table>\n",
       "<p>4728 rows × 4 columns</p>\n",
       "</div>"
      ],
      "text/plain": [
       "        번호    초장    중장    종장\n",
       "0        1  None  None    오리\n",
       "1        2  None  None     계\n",
       "2        3  None  None  None\n",
       "3        4  None  None  None\n",
       "4        5    白鷗  None  None\n",
       "...    ...   ...   ...   ...\n",
       "4723  4732  None  None     계\n",
       "4724  4733  None    鳳凰  None\n",
       "4725  4734  None  None  None\n",
       "4726  4735  None  None  None\n",
       "4727  4736  None  None  None\n",
       "\n",
       "[4728 rows x 4 columns]"
      ]
     },
     "execution_count": 30,
     "metadata": {},
     "output_type": "execute_result"
    }
   ],
   "source": [
    "new_df"
   ]
  },
  {
   "cell_type": "code",
   "execution_count": 31,
   "id": "c21273fd",
   "metadata": {},
   "outputs": [],
   "source": [
    "filtered_df = new_df[new_df['초장'].notnull() | new_df['중장'].notnull() | new_df['종장'].notnull()]"
   ]
  },
  {
   "cell_type": "code",
   "execution_count": 34,
   "id": "1222981c",
   "metadata": {},
   "outputs": [
    {
     "data": {
      "text/html": [
       "<div>\n",
       "<style scoped>\n",
       "    .dataframe tbody tr th:only-of-type {\n",
       "        vertical-align: middle;\n",
       "    }\n",
       "\n",
       "    .dataframe tbody tr th {\n",
       "        vertical-align: top;\n",
       "    }\n",
       "\n",
       "    .dataframe thead th {\n",
       "        text-align: right;\n",
       "    }\n",
       "</style>\n",
       "<table border=\"1\" class=\"dataframe\">\n",
       "  <thead>\n",
       "    <tr style=\"text-align: right;\">\n",
       "      <th></th>\n",
       "      <th>번호</th>\n",
       "      <th>초장</th>\n",
       "      <th>중장</th>\n",
       "      <th>종장</th>\n",
       "    </tr>\n",
       "  </thead>\n",
       "  <tbody>\n",
       "    <tr>\n",
       "      <th>0</th>\n",
       "      <td>1</td>\n",
       "      <td>None</td>\n",
       "      <td>None</td>\n",
       "      <td>오리</td>\n",
       "    </tr>\n",
       "    <tr>\n",
       "      <th>1</th>\n",
       "      <td>2</td>\n",
       "      <td>None</td>\n",
       "      <td>None</td>\n",
       "      <td>계</td>\n",
       "    </tr>\n",
       "    <tr>\n",
       "      <th>4</th>\n",
       "      <td>5</td>\n",
       "      <td>白鷗</td>\n",
       "      <td>None</td>\n",
       "      <td>None</td>\n",
       "    </tr>\n",
       "    <tr>\n",
       "      <th>8</th>\n",
       "      <td>9</td>\n",
       "      <td>매</td>\n",
       "      <td>None</td>\n",
       "      <td>None</td>\n",
       "    </tr>\n",
       "    <tr>\n",
       "      <th>17</th>\n",
       "      <td>18</td>\n",
       "      <td>None</td>\n",
       "      <td>None</td>\n",
       "      <td>오리</td>\n",
       "    </tr>\n",
       "    <tr>\n",
       "      <th>...</th>\n",
       "      <td>...</td>\n",
       "      <td>...</td>\n",
       "      <td>...</td>\n",
       "      <td>...</td>\n",
       "    </tr>\n",
       "    <tr>\n",
       "      <th>4699</th>\n",
       "      <td>4708</td>\n",
       "      <td>燕</td>\n",
       "      <td>None</td>\n",
       "      <td>None</td>\n",
       "    </tr>\n",
       "    <tr>\n",
       "      <th>4701</th>\n",
       "      <td>4710</td>\n",
       "      <td>꾀꼬리</td>\n",
       "      <td>None</td>\n",
       "      <td>None</td>\n",
       "    </tr>\n",
       "    <tr>\n",
       "      <th>4714</th>\n",
       "      <td>4723</td>\n",
       "      <td>None</td>\n",
       "      <td>None</td>\n",
       "      <td>계</td>\n",
       "    </tr>\n",
       "    <tr>\n",
       "      <th>4723</th>\n",
       "      <td>4732</td>\n",
       "      <td>None</td>\n",
       "      <td>None</td>\n",
       "      <td>계</td>\n",
       "    </tr>\n",
       "    <tr>\n",
       "      <th>4724</th>\n",
       "      <td>4733</td>\n",
       "      <td>None</td>\n",
       "      <td>鳳凰</td>\n",
       "      <td>None</td>\n",
       "    </tr>\n",
       "  </tbody>\n",
       "</table>\n",
       "<p>1242 rows × 4 columns</p>\n",
       "</div>"
      ],
      "text/plain": [
       "        번호    초장    중장    종장\n",
       "0        1  None  None    오리\n",
       "1        2  None  None     계\n",
       "4        5    白鷗  None  None\n",
       "8        9     매  None  None\n",
       "17      18  None  None    오리\n",
       "...    ...   ...   ...   ...\n",
       "4699  4708     燕  None  None\n",
       "4701  4710   꾀꼬리  None  None\n",
       "4714  4723  None  None     계\n",
       "4723  4732  None  None     계\n",
       "4724  4733  None    鳳凰  None\n",
       "\n",
       "[1242 rows x 4 columns]"
      ]
     },
     "execution_count": 34,
     "metadata": {},
     "output_type": "execute_result"
    }
   ],
   "source": [
    "filtered_df"
   ]
  },
  {
   "cell_type": "code",
   "execution_count": 35,
   "id": "edf9951e",
   "metadata": {},
   "outputs": [],
   "source": [
    "filtered_df.to_excel('시조별 등장 새.xlsx')"
   ]
  }
 ],
 "metadata": {
  "kernelspec": {
   "display_name": "Python 3",
   "language": "python",
   "name": "python3"
  },
  "language_info": {
   "codemirror_mode": {
    "name": "ipython",
    "version": 3
   },
   "file_extension": ".py",
   "mimetype": "text/x-python",
   "name": "python",
   "nbconvert_exporter": "python",
   "pygments_lexer": "ipython3",
   "version": "3.8.10"
  }
 },
 "nbformat": 4,
 "nbformat_minor": 5
}
